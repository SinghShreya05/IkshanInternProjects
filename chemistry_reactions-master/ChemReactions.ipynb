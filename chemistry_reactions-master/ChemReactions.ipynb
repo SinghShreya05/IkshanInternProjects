{
  "nbformat": 4,
  "nbformat_minor": 0,
  "metadata": {
    "colab": {
      "name": "ChemReactions.ipynb",
      "provenance": []
    },
    "kernelspec": {
      "name": "python3",
      "display_name": "Python 3"
    }
  },
  "cells": [
    {
      "cell_type": "code",
      "metadata": {
        "colab": {
          "base_uri": "https://localhost:8080/"
        },
        "id": "V7hvzzzjY8HL",
        "outputId": "8ae380a2-f6d4-4106-ade6-d6a56347486b"
      },
      "source": [
        "pip install chempy"
      ],
      "execution_count": 1,
      "outputs": [
        {
          "output_type": "stream",
          "text": [
            "Collecting chempy\n",
            "\u001b[?25l  Downloading https://files.pythonhosted.org/packages/e3/e1/2951b7ebe18e8ac7ee439a3bc34fc9fd89c45ce1f1979b08dbfe33da4373/chempy-0.7.10.tar.gz (167kB)\n",
            "\u001b[K     |████████████████████████████████| 174kB 4.8MB/s \n",
            "\u001b[?25hRequirement already satisfied: numpy>1.11.3 in /usr/local/lib/python3.6/dist-packages (from chempy) (1.19.5)\n",
            "Requirement already satisfied: scipy>=1.0.1 in /usr/local/lib/python3.6/dist-packages (from chempy) (1.4.1)\n",
            "Requirement already satisfied: matplotlib>=2.2.3 in /usr/local/lib/python3.6/dist-packages (from chempy) (3.2.2)\n",
            "Requirement already satisfied: sympy!=1.2,>=1.1.1 in /usr/local/lib/python3.6/dist-packages (from chempy) (1.1.1)\n",
            "Collecting quantities>=0.12.1\n",
            "\u001b[?25l  Downloading https://files.pythonhosted.org/packages/2b/4f/2e8ce7d6c16fb07c43036f8539962322b2bf241e7397e87f318a1aa2f7c4/quantities-0.12.4.tar.gz (83kB)\n",
            "\u001b[K     |████████████████████████████████| 92kB 3.6MB/s \n",
            "\u001b[?25hCollecting pyneqsys>=0.5.5\n",
            "  Downloading https://files.pythonhosted.org/packages/32/2e/e462e8565f1472cc46bebf7a0bca7dc8a452a29dc73c341e4b3f70eaea86/pyneqsys-0.5.7.tar.gz\n",
            "Collecting pyodesys>=0.12.5\n",
            "\u001b[?25l  Downloading https://files.pythonhosted.org/packages/15/a3/7a77ad0fb49e77b0534e711df933aa29d982c6627ac3c110f44aa7597662/pyodesys-0.13.0.tar.gz (107kB)\n",
            "\u001b[K     |████████████████████████████████| 112kB 5.9MB/s \n",
            "\u001b[?25hRequirement already satisfied: pyparsing>=2.0.3 in /usr/local/lib/python3.6/dist-packages (from chempy) (2.4.7)\n",
            "Collecting sym>=0.3.4\n",
            "  Downloading https://files.pythonhosted.org/packages/f5/07/cc80b30b933c7430597fc884305c499e973f2e4c0a3a6208880ced5cefba/sym-0.3.4.tar.gz\n",
            "Requirement already satisfied: jupyter in /usr/local/lib/python3.6/dist-packages (from chempy) (1.0.0)\n",
            "Collecting pulp>=1.6.8\n",
            "\u001b[?25l  Downloading https://files.pythonhosted.org/packages/14/c4/0eec14a0123209c261de6ff154ef3be5cad3fd557c084f468356662e0585/PuLP-2.4-py3-none-any.whl (40.6MB)\n",
            "\u001b[K     |████████████████████████████████| 40.6MB 97kB/s \n",
            "\u001b[?25hCollecting dot2tex>=2.11.3\n",
            "  Downloading https://files.pythonhosted.org/packages/ca/9e/26e11dfd9762eda401181b4cf388de5421d4ccfdddef0ddc1a8c9256e072/dot2tex-2.11.3-py2.py3-none-any.whl\n",
            "Requirement already satisfied: kiwisolver>=1.0.1 in /usr/local/lib/python3.6/dist-packages (from matplotlib>=2.2.3->chempy) (1.3.1)\n",
            "Requirement already satisfied: python-dateutil>=2.1 in /usr/local/lib/python3.6/dist-packages (from matplotlib>=2.2.3->chempy) (2.8.1)\n",
            "Requirement already satisfied: cycler>=0.10 in /usr/local/lib/python3.6/dist-packages (from matplotlib>=2.2.3->chempy) (0.10.0)\n",
            "Requirement already satisfied: mpmath>=0.19 in /usr/local/lib/python3.6/dist-packages (from sympy!=1.2,>=1.1.1->chempy) (1.1.0)\n",
            "Requirement already satisfied: ipywidgets in /usr/local/lib/python3.6/dist-packages (from jupyter->chempy) (7.6.3)\n",
            "Requirement already satisfied: ipykernel in /usr/local/lib/python3.6/dist-packages (from jupyter->chempy) (4.10.1)\n",
            "Requirement already satisfied: notebook in /usr/local/lib/python3.6/dist-packages (from jupyter->chempy) (5.3.1)\n",
            "Requirement already satisfied: jupyter-console in /usr/local/lib/python3.6/dist-packages (from jupyter->chempy) (5.2.0)\n",
            "Requirement already satisfied: nbconvert in /usr/local/lib/python3.6/dist-packages (from jupyter->chempy) (5.6.1)\n",
            "Requirement already satisfied: qtconsole in /usr/local/lib/python3.6/dist-packages (from jupyter->chempy) (5.0.2)\n",
            "Collecting amply>=0.1.2\n",
            "  Downloading https://files.pythonhosted.org/packages/f3/c5/dfa09dd2595a2ab2ab4e6fa7bebef9565812722e1980d04b0edce5032066/amply-0.1.4-py3-none-any.whl\n",
            "Requirement already satisfied: six>=1.5 in /usr/local/lib/python3.6/dist-packages (from python-dateutil>=2.1->matplotlib>=2.2.3->chempy) (1.15.0)\n",
            "Requirement already satisfied: nbformat>=4.2.0 in /usr/local/lib/python3.6/dist-packages (from ipywidgets->jupyter->chempy) (5.1.2)\n",
            "Requirement already satisfied: traitlets>=4.3.1 in /usr/local/lib/python3.6/dist-packages (from ipywidgets->jupyter->chempy) (4.3.3)\n",
            "Requirement already satisfied: widgetsnbextension~=3.5.0 in /usr/local/lib/python3.6/dist-packages (from ipywidgets->jupyter->chempy) (3.5.1)\n",
            "Requirement already satisfied: ipython>=4.0.0; python_version >= \"3.3\" in /usr/local/lib/python3.6/dist-packages (from ipywidgets->jupyter->chempy) (5.5.0)\n",
            "Requirement already satisfied: jupyterlab-widgets>=1.0.0; python_version >= \"3.6\" in /usr/local/lib/python3.6/dist-packages (from ipywidgets->jupyter->chempy) (1.0.0)\n",
            "Requirement already satisfied: tornado>=4.0 in /usr/local/lib/python3.6/dist-packages (from ipykernel->jupyter->chempy) (5.1.1)\n",
            "Requirement already satisfied: jupyter-client in /usr/local/lib/python3.6/dist-packages (from ipykernel->jupyter->chempy) (5.3.5)\n",
            "Requirement already satisfied: terminado>=0.8.1 in /usr/local/lib/python3.6/dist-packages (from notebook->jupyter->chempy) (0.9.2)\n",
            "Requirement already satisfied: Send2Trash in /usr/local/lib/python3.6/dist-packages (from notebook->jupyter->chempy) (1.5.0)\n",
            "Requirement already satisfied: jinja2 in /usr/local/lib/python3.6/dist-packages (from notebook->jupyter->chempy) (2.11.2)\n",
            "Requirement already satisfied: jupyter-core>=4.4.0 in /usr/local/lib/python3.6/dist-packages (from notebook->jupyter->chempy) (4.7.0)\n",
            "Requirement already satisfied: ipython-genutils in /usr/local/lib/python3.6/dist-packages (from notebook->jupyter->chempy) (0.2.0)\n",
            "Requirement already satisfied: pygments in /usr/local/lib/python3.6/dist-packages (from jupyter-console->jupyter->chempy) (2.6.1)\n",
            "Requirement already satisfied: prompt-toolkit<2.0.0,>=1.0.0 in /usr/local/lib/python3.6/dist-packages (from jupyter-console->jupyter->chempy) (1.0.18)\n",
            "Requirement already satisfied: defusedxml in /usr/local/lib/python3.6/dist-packages (from nbconvert->jupyter->chempy) (0.6.0)\n",
            "Requirement already satisfied: entrypoints>=0.2.2 in /usr/local/lib/python3.6/dist-packages (from nbconvert->jupyter->chempy) (0.3)\n",
            "Requirement already satisfied: bleach in /usr/local/lib/python3.6/dist-packages (from nbconvert->jupyter->chempy) (3.2.3)\n",
            "Requirement already satisfied: testpath in /usr/local/lib/python3.6/dist-packages (from nbconvert->jupyter->chempy) (0.4.4)\n",
            "Requirement already satisfied: pandocfilters>=1.4.1 in /usr/local/lib/python3.6/dist-packages (from nbconvert->jupyter->chempy) (1.4.3)\n",
            "Requirement already satisfied: mistune<2,>=0.8.1 in /usr/local/lib/python3.6/dist-packages (from nbconvert->jupyter->chempy) (0.8.4)\n",
            "Requirement already satisfied: qtpy in /usr/local/lib/python3.6/dist-packages (from qtconsole->jupyter->chempy) (1.9.0)\n",
            "Requirement already satisfied: pyzmq>=17.1 in /usr/local/lib/python3.6/dist-packages (from qtconsole->jupyter->chempy) (22.0.2)\n",
            "Requirement already satisfied: docutils>=0.3 in /usr/local/lib/python3.6/dist-packages (from amply>=0.1.2->pulp>=1.6.8->chempy) (0.16)\n",
            "Requirement already satisfied: jsonschema!=2.5.0,>=2.4 in /usr/local/lib/python3.6/dist-packages (from nbformat>=4.2.0->ipywidgets->jupyter->chempy) (2.6.0)\n",
            "Requirement already satisfied: decorator in /usr/local/lib/python3.6/dist-packages (from traitlets>=4.3.1->ipywidgets->jupyter->chempy) (4.4.2)\n",
            "Requirement already satisfied: pexpect; sys_platform != \"win32\" in /usr/local/lib/python3.6/dist-packages (from ipython>=4.0.0; python_version >= \"3.3\"->ipywidgets->jupyter->chempy) (4.8.0)\n",
            "Requirement already satisfied: setuptools>=18.5 in /usr/local/lib/python3.6/dist-packages (from ipython>=4.0.0; python_version >= \"3.3\"->ipywidgets->jupyter->chempy) (53.0.0)\n",
            "Requirement already satisfied: simplegeneric>0.8 in /usr/local/lib/python3.6/dist-packages (from ipython>=4.0.0; python_version >= \"3.3\"->ipywidgets->jupyter->chempy) (0.8.1)\n",
            "Requirement already satisfied: pickleshare in /usr/local/lib/python3.6/dist-packages (from ipython>=4.0.0; python_version >= \"3.3\"->ipywidgets->jupyter->chempy) (0.7.5)\n",
            "Requirement already satisfied: ptyprocess; os_name != \"nt\" in /usr/local/lib/python3.6/dist-packages (from terminado>=0.8.1->notebook->jupyter->chempy) (0.7.0)\n",
            "Requirement already satisfied: MarkupSafe>=0.23 in /usr/local/lib/python3.6/dist-packages (from jinja2->notebook->jupyter->chempy) (1.1.1)\n",
            "Requirement already satisfied: wcwidth in /usr/local/lib/python3.6/dist-packages (from prompt-toolkit<2.0.0,>=1.0.0->jupyter-console->jupyter->chempy) (0.2.5)\n",
            "Requirement already satisfied: packaging in /usr/local/lib/python3.6/dist-packages (from bleach->nbconvert->jupyter->chempy) (20.8)\n",
            "Requirement already satisfied: webencodings in /usr/local/lib/python3.6/dist-packages (from bleach->nbconvert->jupyter->chempy) (0.5.1)\n",
            "Building wheels for collected packages: chempy, quantities, pyneqsys, pyodesys, sym\n",
            "  Building wheel for chempy (setup.py) ... \u001b[?25l\u001b[?25hdone\n",
            "  Created wheel for chempy: filename=chempy-0.7.10-py2.py3-none-any.whl size=206046 sha256=c1f77b56506a8d4a792bbfcceda72e3fb5369ecdf139ff7186633360bcf309ce\n",
            "  Stored in directory: /root/.cache/pip/wheels/39/87/ce/040d9ca0df05bcf5c4d305196a2203c6d0175c4a313a37fef3\n",
            "  Building wheel for quantities (setup.py) ... \u001b[?25l\u001b[?25hdone\n",
            "  Created wheel for quantities: filename=quantities-0.12.4-cp36-none-any.whl size=79167 sha256=07af72f854c15f8fd46ab86142b675aa246b7cf23439f9b8cdf3c2b27c1b8cf6\n",
            "  Stored in directory: /root/.cache/pip/wheels/2c/27/a5/62fb2a57d167d7b7164278de7399ba1504321c1d6c3a3802d5\n",
            "  Building wheel for pyneqsys (setup.py) ... \u001b[?25l\u001b[?25hdone\n",
            "  Created wheel for pyneqsys: filename=pyneqsys-0.5.7-py2.py3-none-any.whl size=27266 sha256=5298839baa61f8d70b1a5ba8d15c8c4172c9016f4166b28eb33fd4341e5a95a6\n",
            "  Stored in directory: /root/.cache/pip/wheels/e8/ae/4e/ab1d94afa5c9e1e7d116b74ece9ee382cbddf36bd1189a3d87\n",
            "  Building wheel for pyodesys (setup.py) ... \u001b[?25l\u001b[?25hdone\n",
            "  Created wheel for pyodesys: filename=pyodesys-0.13.0-py2.py3-none-any.whl size=122489 sha256=018f2145cf297950f9dbd8f08d8ba05efa14d4684d52aa950bdc33b21f338051\n",
            "  Stored in directory: /root/.cache/pip/wheels/6f/31/ce/fab8da2cfba0530ba85e98c909c5b828e86afbbd672ce7f5ba\n",
            "  Building wheel for sym (setup.py) ... \u001b[?25l\u001b[?25hdone\n",
            "  Created wheel for sym: filename=sym-0.3.4-py2.py3-none-any.whl size=20822 sha256=dddfc179ba5e8a983be2634aac29e0e41f18f31ea3704078cd412d8521334bb8\n",
            "  Stored in directory: /root/.cache/pip/wheels/54/29/cb/99f5eaa94bbaac78e725b1dadae048b551808ce9a15317482a\n",
            "Successfully built chempy quantities pyneqsys pyodesys sym\n",
            "\u001b[31mERROR: pyneqsys 0.5.7 has requirement sympy>=1.3, but you'll have sympy 1.1.1 which is incompatible.\u001b[0m\n",
            "Installing collected packages: quantities, sym, pyneqsys, pyodesys, amply, pulp, dot2tex, chempy\n",
            "Successfully installed amply-0.1.4 chempy-0.7.10 dot2tex-2.11.3 pulp-2.4 pyneqsys-0.5.7 pyodesys-0.13.0 quantities-0.12.4 sym-0.3.4\n"
          ],
          "name": "stdout"
        }
      ]
    },
    {
      "cell_type": "code",
      "metadata": {
        "id": "e6QjLzwPZMi8"
      },
      "source": [
        "from chempy import Substance\r\n",
        "from chempy import balance_stoichiometry\r\n",
        "from chempy import mass_fractions"
      ],
      "execution_count": 2,
      "outputs": []
    },
    {
      "cell_type": "code",
      "metadata": {
        "colab": {
          "base_uri": "https://localhost:8080/"
        },
        "id": "LQgTlVuvZMgP",
        "outputId": "88d4f706-7a55-4cb6-e4f0-ba8b5f4f32c6"
      },
      "source": [
        "water = Substance.from_formula(\"H2O\")\r\n",
        "print(water.composition)\r\n",
        "print('%.3f' % water.mass)\r\n",
        "print(water.unicode_name)"
      ],
      "execution_count": 3,
      "outputs": [
        {
          "output_type": "stream",
          "text": [
            "{1: 2, 8: 1}\n",
            "18.015\n",
            "H₂O\n"
          ],
          "name": "stdout"
        }
      ]
    },
    {
      "cell_type": "code",
      "metadata": {
        "colab": {
          "base_uri": "https://localhost:8080/"
        },
        "id": "WAkvTb4QZMcR",
        "outputId": "a931bfd2-f355-4a6a-daf9-6cead58e0d1c"
      },
      "source": [
        "def basics():\r\n",
        "    name = input(\"Enter the Compound formula : \")\r\n",
        "    compound = Substance.from_formula(name)\r\n",
        "    print('%.3f' % compound.mass)\r\n",
        "    return compound.composition, compound.unicode_name\r\n",
        "basics()"
      ],
      "execution_count": 9,
      "outputs": [
        {
          "output_type": "stream",
          "text": [
            "Enter the Compound formula : Fe(CN)6-3\n",
            "211.955\n"
          ],
          "name": "stdout"
        },
        {
          "output_type": "execute_result",
          "data": {
            "text/plain": [
              "({0: -3, 6: 6, 7: 6, 26: 1}, 'Fe(CN)₆³⁻')"
            ]
          },
          "metadata": {
            "tags": []
          },
          "execution_count": 9
        }
      ]
    },
    {
      "cell_type": "code",
      "metadata": {
        "colab": {
          "base_uri": "https://localhost:8080/"
        },
        "id": "AhewrGaoc8qN",
        "outputId": "0032b2d5-e3e9-4ee8-a43f-89ff337a692e"
      },
      "source": [
        "reac, prod = balance_stoichiometry({'NH4ClO4', 'Al'}, {'Al2O3', 'HCl', 'H2O', 'N2'})\r\n",
        "print(dict(reac))\r\n",
        "print(dict(prod))"
      ],
      "execution_count": 10,
      "outputs": [
        {
          "output_type": "stream",
          "text": [
            "{'Al': 10, 'NH4ClO4': 6}\n",
            "{'Al2O3': 5, 'H2O': 9, 'HCl': 6, 'N2': 3}\n"
          ],
          "name": "stdout"
        }
      ]
    },
    {
      "cell_type": "code",
      "metadata": {
        "colab": {
          "base_uri": "https://localhost:8080/"
        },
        "id": "o9IqCIJec-lZ",
        "outputId": "6b103acc-1732-4119-a936-cf4019195f59"
      },
      "source": [
        "for fractions in map(mass_fractions, [reac, prod]):\r\n",
        "  print({k: '{0:.3g} wt%'.format(v*100) for k, v in fractions.items()})"
      ],
      "execution_count": 11,
      "outputs": [
        {
          "output_type": "stream",
          "text": [
            "{'Al': '27.7 wt%', 'NH4ClO4': '72.3 wt%'}\n",
            "{'Al2O3': '52.3 wt%', 'H2O': '16.6 wt%', 'HCl': '22.4 wt%', 'N2': '8.62 wt%'}\n"
          ],
          "name": "stdout"
        }
      ]
    },
    {
      "cell_type": "code",
      "metadata": {
        "colab": {
          "base_uri": "https://localhost:8080/",
          "height": 442
        },
        "id": "dnDBNw36c-it",
        "outputId": "368cfd9f-5737-47b2-a70b-d9adeeffca68"
      },
      "source": [
        "def reactions():\r\n",
        "    from chempy import balance_stoichiometry\r\n",
        "    from chempy import mass_fractions\r\n",
        "    r = int(input(\"Enter no. of reactants : \"))\r\n",
        "    p = int(input(\"Enter no. of products : \"))\r\n",
        "    reactants = []\r\n",
        "    products = []\r\n",
        "    while(r>0):\r\n",
        "      cname=input(\"Enter reactants \")\r\n",
        "      reactants.append(cname)\r\n",
        "      r-=1\r\n",
        "    while(p>0):\r\n",
        "      cname=input(\"Enter products \")\r\n",
        "      products.append(cname)\r\n",
        "      p-=1\r\n",
        "    \"\"\"\r\n",
        "    reac, prod = balance_stoichiometry(dict(zip(reactants)}, dict(zip(products)\r\n",
        "    for fractions in map(mass_fractions, [reac, prod]):\r\n",
        "        print({k: '{0:.3g} wt%'.format(v*100) for k, v in fractions.items()})\r\n",
        "    return dict(reac), dict(prod)\r\n",
        "reactions()"
      ],
      "execution_count": 24,
      "outputs": [
        {
          "output_type": "stream",
          "text": [
            "Enter no. of reactants : 2\n",
            "Enter no. of products : 2\n",
            "Enter reactants C\n",
            "Enter reactants O2\n",
            "Enter products CO2\n",
            "Enter products CO\n"
          ],
          "name": "stdout"
        },
        {
          "output_type": "error",
          "ename": "TypeError",
          "evalue": "ignored",
          "traceback": [
            "\u001b[0;31m---------------------------------------------------------------------------\u001b[0m",
            "\u001b[0;31mTypeError\u001b[0m                                 Traceback (most recent call last)",
            "\u001b[0;32m<ipython-input-24-6e40718ab7b7>\u001b[0m in \u001b[0;36m<module>\u001b[0;34m()\u001b[0m\n\u001b[1;32m     19\u001b[0m         \u001b[0mprint\u001b[0m\u001b[0;34m(\u001b[0m\u001b[0;34m{\u001b[0m\u001b[0mk\u001b[0m\u001b[0;34m:\u001b[0m \u001b[0;34m'{0:.3g} wt%'\u001b[0m\u001b[0;34m.\u001b[0m\u001b[0mformat\u001b[0m\u001b[0;34m(\u001b[0m\u001b[0mv\u001b[0m\u001b[0;34m*\u001b[0m\u001b[0;36m100\u001b[0m\u001b[0;34m)\u001b[0m \u001b[0;32mfor\u001b[0m \u001b[0mk\u001b[0m\u001b[0;34m,\u001b[0m \u001b[0mv\u001b[0m \u001b[0;32min\u001b[0m \u001b[0mfractions\u001b[0m\u001b[0;34m.\u001b[0m\u001b[0mitems\u001b[0m\u001b[0;34m(\u001b[0m\u001b[0;34m)\u001b[0m\u001b[0;34m}\u001b[0m\u001b[0;34m)\u001b[0m\u001b[0;34m\u001b[0m\u001b[0;34m\u001b[0m\u001b[0m\n\u001b[1;32m     20\u001b[0m     \u001b[0;32mreturn\u001b[0m \u001b[0mdict\u001b[0m\u001b[0;34m(\u001b[0m\u001b[0mreac\u001b[0m\u001b[0;34m)\u001b[0m\u001b[0;34m,\u001b[0m \u001b[0mdict\u001b[0m\u001b[0;34m(\u001b[0m\u001b[0mprod\u001b[0m\u001b[0;34m)\u001b[0m\u001b[0;34m\u001b[0m\u001b[0;34m\u001b[0m\u001b[0m\n\u001b[0;32m---> 21\u001b[0;31m \u001b[0mreactions\u001b[0m\u001b[0;34m(\u001b[0m\u001b[0;34m)\u001b[0m\u001b[0;34m\u001b[0m\u001b[0;34m\u001b[0m\u001b[0m\n\u001b[0m",
            "\u001b[0;32m<ipython-input-24-6e40718ab7b7>\u001b[0m in \u001b[0;36mreactions\u001b[0;34m()\u001b[0m\n\u001b[1;32m     17\u001b[0m     \u001b[0mreac\u001b[0m\u001b[0;34m,\u001b[0m \u001b[0mprod\u001b[0m \u001b[0;34m=\u001b[0m \u001b[0mbalance_stoichiometry\u001b[0m\u001b[0;34m(\u001b[0m\u001b[0mreactants\u001b[0m\u001b[0;34m,\u001b[0m \u001b[0mproducts\u001b[0m\u001b[0;34m)\u001b[0m\u001b[0;34m\u001b[0m\u001b[0;34m\u001b[0m\u001b[0m\n\u001b[1;32m     18\u001b[0m     \u001b[0;32mfor\u001b[0m \u001b[0mfractions\u001b[0m \u001b[0;32min\u001b[0m \u001b[0mmap\u001b[0m\u001b[0;34m(\u001b[0m\u001b[0mmass_fractions\u001b[0m\u001b[0;34m,\u001b[0m \u001b[0;34m[\u001b[0m\u001b[0mreac\u001b[0m\u001b[0;34m,\u001b[0m \u001b[0mprod\u001b[0m\u001b[0;34m]\u001b[0m\u001b[0;34m)\u001b[0m\u001b[0;34m:\u001b[0m\u001b[0;34m\u001b[0m\u001b[0;34m\u001b[0m\u001b[0m\n\u001b[0;32m---> 19\u001b[0;31m         \u001b[0mprint\u001b[0m\u001b[0;34m(\u001b[0m\u001b[0;34m{\u001b[0m\u001b[0mk\u001b[0m\u001b[0;34m:\u001b[0m \u001b[0;34m'{0:.3g} wt%'\u001b[0m\u001b[0;34m.\u001b[0m\u001b[0mformat\u001b[0m\u001b[0;34m(\u001b[0m\u001b[0mv\u001b[0m\u001b[0;34m*\u001b[0m\u001b[0;36m100\u001b[0m\u001b[0;34m)\u001b[0m \u001b[0;32mfor\u001b[0m \u001b[0mk\u001b[0m\u001b[0;34m,\u001b[0m \u001b[0mv\u001b[0m \u001b[0;32min\u001b[0m \u001b[0mfractions\u001b[0m\u001b[0;34m.\u001b[0m\u001b[0mitems\u001b[0m\u001b[0;34m(\u001b[0m\u001b[0;34m)\u001b[0m\u001b[0;34m}\u001b[0m\u001b[0;34m)\u001b[0m\u001b[0;34m\u001b[0m\u001b[0;34m\u001b[0m\u001b[0m\n\u001b[0m\u001b[1;32m     20\u001b[0m     \u001b[0;32mreturn\u001b[0m \u001b[0mdict\u001b[0m\u001b[0;34m(\u001b[0m\u001b[0mreac\u001b[0m\u001b[0;34m)\u001b[0m\u001b[0;34m,\u001b[0m \u001b[0mdict\u001b[0m\u001b[0;34m(\u001b[0m\u001b[0mprod\u001b[0m\u001b[0;34m)\u001b[0m\u001b[0;34m\u001b[0m\u001b[0;34m\u001b[0m\u001b[0m\n\u001b[1;32m     21\u001b[0m \u001b[0mreactions\u001b[0m\u001b[0;34m(\u001b[0m\u001b[0;34m)\u001b[0m\u001b[0;34m\u001b[0m\u001b[0;34m\u001b[0m\u001b[0m\n",
            "\u001b[0;32m<ipython-input-24-6e40718ab7b7>\u001b[0m in \u001b[0;36m<dictcomp>\u001b[0;34m(.0)\u001b[0m\n\u001b[1;32m     17\u001b[0m     \u001b[0mreac\u001b[0m\u001b[0;34m,\u001b[0m \u001b[0mprod\u001b[0m \u001b[0;34m=\u001b[0m \u001b[0mbalance_stoichiometry\u001b[0m\u001b[0;34m(\u001b[0m\u001b[0mreactants\u001b[0m\u001b[0;34m,\u001b[0m \u001b[0mproducts\u001b[0m\u001b[0;34m)\u001b[0m\u001b[0;34m\u001b[0m\u001b[0;34m\u001b[0m\u001b[0m\n\u001b[1;32m     18\u001b[0m     \u001b[0;32mfor\u001b[0m \u001b[0mfractions\u001b[0m \u001b[0;32min\u001b[0m \u001b[0mmap\u001b[0m\u001b[0;34m(\u001b[0m\u001b[0mmass_fractions\u001b[0m\u001b[0;34m,\u001b[0m \u001b[0;34m[\u001b[0m\u001b[0mreac\u001b[0m\u001b[0;34m,\u001b[0m \u001b[0mprod\u001b[0m\u001b[0;34m]\u001b[0m\u001b[0;34m)\u001b[0m\u001b[0;34m:\u001b[0m\u001b[0;34m\u001b[0m\u001b[0;34m\u001b[0m\u001b[0m\n\u001b[0;32m---> 19\u001b[0;31m         \u001b[0mprint\u001b[0m\u001b[0;34m(\u001b[0m\u001b[0;34m{\u001b[0m\u001b[0mk\u001b[0m\u001b[0;34m:\u001b[0m \u001b[0;34m'{0:.3g} wt%'\u001b[0m\u001b[0;34m.\u001b[0m\u001b[0mformat\u001b[0m\u001b[0;34m(\u001b[0m\u001b[0mv\u001b[0m\u001b[0;34m*\u001b[0m\u001b[0;36m100\u001b[0m\u001b[0;34m)\u001b[0m \u001b[0;32mfor\u001b[0m \u001b[0mk\u001b[0m\u001b[0;34m,\u001b[0m \u001b[0mv\u001b[0m \u001b[0;32min\u001b[0m \u001b[0mfractions\u001b[0m\u001b[0;34m.\u001b[0m\u001b[0mitems\u001b[0m\u001b[0;34m(\u001b[0m\u001b[0;34m)\u001b[0m\u001b[0;34m}\u001b[0m\u001b[0;34m)\u001b[0m\u001b[0;34m\u001b[0m\u001b[0;34m\u001b[0m\u001b[0m\n\u001b[0m\u001b[1;32m     20\u001b[0m     \u001b[0;32mreturn\u001b[0m \u001b[0mdict\u001b[0m\u001b[0;34m(\u001b[0m\u001b[0mreac\u001b[0m\u001b[0;34m)\u001b[0m\u001b[0;34m,\u001b[0m \u001b[0mdict\u001b[0m\u001b[0;34m(\u001b[0m\u001b[0mprod\u001b[0m\u001b[0;34m)\u001b[0m\u001b[0;34m\u001b[0m\u001b[0;34m\u001b[0m\u001b[0m\n\u001b[1;32m     21\u001b[0m \u001b[0mreactions\u001b[0m\u001b[0;34m(\u001b[0m\u001b[0;34m)\u001b[0m\u001b[0;34m\u001b[0m\u001b[0;34m\u001b[0m\u001b[0m\n",
            "\u001b[0;31mTypeError\u001b[0m: unsupported format string passed to Mul.__format__"
          ]
        }
      ]
    },
    {
      "cell_type": "code",
      "metadata": {
        "colab": {
          "base_uri": "https://localhost:8080/"
        },
        "id": "mNPui1eLp-YD",
        "outputId": "2ae76b77-71e3-4ac9-e8b9-dc9b50f520f3"
      },
      "source": [
        "print([dict(_) for _ in balance_stoichiometry({'C', 'O2'}, {'CO2', 'CO'}, underdetermined=None)])"
      ],
      "execution_count": 22,
      "outputs": [
        {
          "output_type": "stream",
          "text": [
            "[{'C': 3, 'O2': 2}, {'CO': 2, 'CO2': 1}]\n"
          ],
          "name": "stdout"
        },
        {
          "output_type": "stream",
          "text": [
            "/usr/local/lib/python3.6/dist-packages/pulp/pulp.py:1199: UserWarning: Spaces are not permitted in the name. Converted to '_'\n",
            "  warnings.warn(\"Spaces are not permitted in the name. Converted to '_'\")\n"
          ],
          "name": "stderr"
        }
      ]
    },
    {
      "cell_type": "code",
      "metadata": {
        "colab": {
          "base_uri": "https://localhost:8080/"
        },
        "id": "pH9TwJUwL05v",
        "outputId": "9983f256-dbc8-4d81-ddf6-fecceccb3e43"
      },
      "source": [
        "from chempy.properties.water_density_tanaka_2001 import water_density as rho\r\n",
        "from chempy.units import to_unitless, default_units as u\r\n",
        "water = Substance.from_formula('H2O')\r\n",
        "for T_C in (15, 25, 35):\r\n",
        "  concentration_H2O = rho(T=(273.15 + T_C)*u.kelvin, units=u)/water.molar_mass(units=u)\r\n",
        "  print('[H2O] = %.2f M (at %d °C)' % (to_unitless(concentration_H2O, u.molar), T_C))"
      ],
      "execution_count": 33,
      "outputs": [
        {
          "output_type": "stream",
          "text": [
            "[H2O] = 55.46 M (at 15 °C)\n",
            "[H2O] = 55.35 M (at 25 °C)\n",
            "[H2O] = 55.18 M (at 35 °C)\n"
          ],
          "name": "stdout"
        }
      ]
    },
    {
      "cell_type": "code",
      "metadata": {
        "colab": {
          "base_uri": "https://localhost:8080/"
        },
        "id": "70mt6MY9MFGJ",
        "outputId": "818aab77-5d4e-4f37-8802-d9877a580e28"
      },
      "source": [
        "carbondioxide = Substance.from_formula('CO2')\r\n",
        "for T_C in (15, 25, 35):\r\n",
        "  concentration_CO2 = rho(T=(273.15 + T_C)*u.kelvin, units=u)/carbondioxide.molar_mass(units=u)\r\n",
        "  print('[CO2] = %.2f M (at %d °C)' % (to_unitless(concentration_CO2, u.molar), T_C))"
      ],
      "execution_count": 36,
      "outputs": [
        {
          "output_type": "stream",
          "text": [
            "[CO2] = 22.70 M (at 15 °C)\n",
            "[CO2] = 22.66 M (at 25 °C)\n",
            "[CO2] = 22.59 M (at 35 °C)\n"
          ],
          "name": "stdout"
        }
      ]
    }
  ]
}