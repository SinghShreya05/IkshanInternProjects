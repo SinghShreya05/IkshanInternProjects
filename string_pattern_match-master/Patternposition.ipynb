{
 "cells": [
  {
   "cell_type": "code",
   "execution_count": 1,
   "metadata": {
    "ExecuteTime": {
     "end_time": "2021-01-07T05:40:04.309837Z",
     "start_time": "2021-01-07T05:39:44.330962Z"
    }
   },
   "outputs": [],
   "source": [
    "import pandas as pd\n",
    "import numpy as np\n",
    "import matplotlib.pyplot as plt\n",
    "import re\n",
    "import nltk\n",
    "from nltk.stem import WordNetLemmatizer\n",
    "from nltk.tokenize import sent_tokenize\n",
    "import string\n",
    "from datetime import datetime, timedelta"
   ]
  },
  {
   "cell_type": "code",
   "execution_count": 36,
   "metadata": {
    "ExecuteTime": {
     "end_time": "2021-01-07T07:32:05.396109Z",
     "start_time": "2021-01-07T07:32:05.372102Z"
    }
   },
   "outputs": [],
   "source": [
    "def count(entry):\n",
    "    charcount=[]\n",
    "    for para in entry:\n",
    "        if para!='\\n':\n",
    "            charcount.append(para)\n",
    "    wordcount=0\n",
    "    for paragraph in entry:\n",
    "        words = len(paragraph.split())\n",
    "        wordcount = words + wordcount\n",
    "    return len(charcount),wordcount"
   ]
  },
  {
   "cell_type": "code",
   "execution_count": 2,
   "metadata": {
    "ExecuteTime": {
     "end_time": "2021-01-07T05:47:13.042258Z",
     "start_time": "2021-01-07T05:47:13.026282Z"
    }
   },
   "outputs": [],
   "source": [
    "journal = \"\"\"The snake reporter of The Rolling Stone was wandering up the avenue last night on his way home from the Y.M.C.A. rooms when he was approached by a gaunt, hungry-looking man with wild eyes and dishevelled hair. He accosted the reporter in a hollow, weak voice.Can you tell me, Sir, where I can find in this town a family of scrubs?'\n",
    "\n",
    "I don't understand exactly.\n",
    "\n",
    "Let me tell you how it is,' said the stranger, inserting his forefinger in the reporter's buttonhole and badly damaging his chrysanthemum. 'I am a representative from Soapstone County, and I and my family are houseless, homeless, and shelterless. We have not tasted food for over a week. I brought my family with me, as I have indigestion and could not get around much with the boys. Some days ago I started out to find a boarding house, as I cannot afford to put up at a hotel. I found a nice aristocratic-looking place, that suited me, and went in and asked for the proprietress. A very stately lady with a Roman nose came in the room. She had one hand laid across her stom--across her waist, and the other held a lace handkerchief. I told her I wanted board for myself and family, and she condescended to take us. I asked for her terms, and she said $300 per week.\n",
    "\"\"\""
   ]
  },
  {
   "cell_type": "code",
   "execution_count": 37,
   "metadata": {
    "ExecuteTime": {
     "end_time": "2021-01-07T07:32:14.099929Z",
     "start_time": "2021-01-07T07:32:14.076025Z"
    }
   },
   "outputs": [
    {
     "data": {
      "text/plain": [
       "(1225, 1002)"
      ]
     },
     "execution_count": 37,
     "metadata": {},
     "output_type": "execute_result"
    }
   ],
   "source": [
    "count(journal)"
   ]
  },
  {
   "cell_type": "code",
   "execution_count": 42,
   "metadata": {
    "ExecuteTime": {
     "end_time": "2021-01-07T07:43:42.049572Z",
     "start_time": "2021-01-07T07:43:37.667987Z"
    }
   },
   "outputs": [
    {
     "name": "stdout",
     "output_type": "stream",
     "text": [
      "Collecting fuzzywuzzy\n",
      "  Using cached fuzzywuzzy-0.18.0-py2.py3-none-any.whl (18 kB)\n",
      "Installing collected packages: fuzzywuzzy\n",
      "Successfully installed fuzzywuzzy-0.18.0\n",
      "Note: you may need to restart the kernel to use updated packages.\n"
     ]
    }
   ],
   "source": [
    "pip install fuzzywuzzy"
   ]
  },
  {
   "cell_type": "code",
   "execution_count": 43,
   "metadata": {
    "ExecuteTime": {
     "end_time": "2021-01-07T07:43:51.955135Z",
     "start_time": "2021-01-07T07:43:51.915231Z"
    }
   },
   "outputs": [
    {
     "name": "stderr",
     "output_type": "stream",
     "text": [
      "D:\\Anacondafiles\\lib\\site-packages\\fuzzywuzzy\\fuzz.py:11: UserWarning: Using slow pure-python SequenceMatcher. Install python-Levenshtein to remove this warning\n",
      "  warnings.warn('Using slow pure-python SequenceMatcher. Install python-Levenshtein to remove this warning')\n"
     ]
    }
   ],
   "source": [
    "import fuzzywuzzy\n",
    "from fuzzywuzzy import process, fuzz"
   ]
  },
  {
   "cell_type": "code",
   "execution_count": 85,
   "metadata": {
    "ExecuteTime": {
     "end_time": "2021-01-07T09:19:38.608718Z",
     "start_time": "2021-01-07T09:19:38.592718Z"
    }
   },
   "outputs": [],
   "source": [
    "from nltk.corpus import stopwords"
   ]
  },
  {
   "cell_type": "code",
   "execution_count": 86,
   "metadata": {
    "ExecuteTime": {
     "end_time": "2021-01-07T09:21:16.538741Z",
     "start_time": "2021-01-07T09:21:16.353159Z"
    }
   },
   "outputs": [
    {
     "data": {
      "text/plain": [
       "['snake',\n",
       " 'reporter',\n",
       " 'rolling',\n",
       " 'stone',\n",
       " 'wa',\n",
       " 'wandering',\n",
       " 'avenue',\n",
       " 'last',\n",
       " 'night',\n",
       " 'way',\n",
       " 'home',\n",
       " 'c',\n",
       " 'room',\n",
       " 'wa',\n",
       " 'approached',\n",
       " 'gaunt',\n",
       " 'hungry',\n",
       " 'looking',\n",
       " 'man',\n",
       " 'wild',\n",
       " 'eye',\n",
       " 'dishevelled',\n",
       " 'hair',\n",
       " 'accosted',\n",
       " 'reporter',\n",
       " 'hollow',\n",
       " 'weak',\n",
       " 'voice',\n",
       " 'tell',\n",
       " 'sir',\n",
       " 'find',\n",
       " 'town',\n",
       " 'family',\n",
       " 'scrub',\n",
       " 'understand',\n",
       " 'exactly',\n",
       " 'let',\n",
       " 'tell',\n",
       " 'said',\n",
       " 'stranger',\n",
       " 'inserting',\n",
       " 'forefinger',\n",
       " 'reporter',\n",
       " 'buttonhole',\n",
       " 'badly',\n",
       " 'damaging',\n",
       " 'chrysanthemum',\n",
       " 'representative',\n",
       " 'soapstone',\n",
       " 'county',\n",
       " 'family',\n",
       " 'houseless',\n",
       " 'homeless',\n",
       " 'shelterless',\n",
       " 'tasted',\n",
       " 'food',\n",
       " 'week',\n",
       " 'brought',\n",
       " 'family',\n",
       " 'indigestion',\n",
       " 'could',\n",
       " 'get',\n",
       " 'around',\n",
       " 'much',\n",
       " 'boy',\n",
       " 'day',\n",
       " 'ago',\n",
       " 'started',\n",
       " 'find',\n",
       " 'boarding',\n",
       " 'house',\n",
       " 'cannot',\n",
       " 'afford',\n",
       " 'put',\n",
       " 'hotel',\n",
       " 'found',\n",
       " 'nice',\n",
       " 'aristocratic',\n",
       " 'looking',\n",
       " 'place',\n",
       " 'suited',\n",
       " 'went',\n",
       " 'asked',\n",
       " 'proprietress',\n",
       " 'stately',\n",
       " 'lady',\n",
       " 'roman',\n",
       " 'nose',\n",
       " 'came',\n",
       " 'room',\n",
       " 'one',\n",
       " 'hand',\n",
       " 'laid',\n",
       " 'across',\n",
       " 'stom',\n",
       " 'across',\n",
       " 'waist',\n",
       " 'held',\n",
       " 'lace',\n",
       " 'handkerchief',\n",
       " 'told',\n",
       " 'wanted',\n",
       " 'board',\n",
       " 'family',\n",
       " 'condescended',\n",
       " 'take',\n",
       " 'u',\n",
       " 'asked',\n",
       " 'term',\n",
       " 'said',\n",
       " '300',\n",
       " 'per',\n",
       " 'week']"
      ]
     },
     "execution_count": 86,
     "metadata": {},
     "output_type": "execute_result"
    }
   ],
   "source": [
    "def cleanentry(text):\n",
    "    lemwords=[]\n",
    "    text=text.lower()\n",
    "    text = re.sub(r'http[s]?://(?:[w]{3})?(?:[a-zA-Z]|[0-9]|[$-_@.&+]|[!*\\(\\),]|(?:%[0-9a-fA-F][0-9a-fA-F]))+','',text)\n",
    "    text = re.sub(r\"#\\S+\",'',text)\n",
    "    text = re.sub(r'RT | cc:','',text)\n",
    "    text = re.sub(r'@\\S+','',text)\n",
    "    text = re.sub('\\s+', ' ', text)\n",
    "    text = re.findall(r\"[\\w]+\",text)\n",
    "    lemmatizer = WordNetLemmatizer()\n",
    "    stop_words = set(stopwords.words('english'))\n",
    "    for i in text:\n",
    "        lemwords_=lemmatizer.lemmatize(i)\n",
    "        if lemwords_ not in stop_words:  \n",
    "            lemwords.append(lemwords_) \n",
    "    return lemwords\n",
    "cleanentry(journal)"
   ]
  },
  {
   "cell_type": "code",
   "execution_count": 90,
   "metadata": {
    "ExecuteTime": {
     "end_time": "2021-01-07T10:32:20.084982Z",
     "start_time": "2021-01-07T10:32:20.044975Z"
    }
   },
   "outputs": [
    {
     "data": {
      "text/plain": [
       "([('stranger', 86),\n",
       "  ('forefinger', 62),\n",
       "  ('roman', 55),\n",
       "  ('wandering', 53),\n",
       "  ('avenue', 50)],\n",
       " [[399], [423], [], [44], [61]])"
      ]
     },
     "execution_count": 90,
     "metadata": {},
     "output_type": "execute_result"
    }
   ],
   "source": [
    "def findaword(entry,pattern):\n",
    "    tempr=cleanentry(journal)\n",
    "    temp=set(tempr)\n",
    "    i=process.extract(pattern, temp, scorer=fuzz.token_sort_ratio,limit=5) #can change 'limit' seeing the threshold of i\n",
    "    alpha=list(zip(*i))\n",
    "    beta=alpha[0]\n",
    "    #word_to_find = re.findall('\\w+', beta) if the list is alphanumeric\n",
    "    pos=[]\n",
    "    for x in beta:\n",
    "        matches = re.finditer(x, entry)\n",
    "        matches_positions = [match.start() for match in matches]\n",
    "        pos.append(matches_positions)\n",
    "    return i,pos\n",
    "findaword(journal,'ranger')"
   ]
  }
 ],
 "metadata": {
  "kernelspec": {
   "display_name": "Python 3",
   "language": "python",
   "name": "python3"
  },
  "language_info": {
   "codemirror_mode": {
    "name": "ipython",
    "version": 3
   },
   "file_extension": ".py",
   "mimetype": "text/x-python",
   "name": "python",
   "nbconvert_exporter": "python",
   "pygments_lexer": "ipython3",
   "version": "3.8.5"
  },
  "toc": {
   "base_numbering": 1,
   "nav_menu": {},
   "number_sections": true,
   "sideBar": true,
   "skip_h1_title": false,
   "title_cell": "Table of Contents",
   "title_sidebar": "Contents",
   "toc_cell": false,
   "toc_position": {},
   "toc_section_display": true,
   "toc_window_display": false
  },
  "varInspector": {
   "cols": {
    "lenName": 16,
    "lenType": 16,
    "lenVar": 40
   },
   "kernels_config": {
    "python": {
     "delete_cmd_postfix": "",
     "delete_cmd_prefix": "del ",
     "library": "var_list.py",
     "varRefreshCmd": "print(var_dic_list())"
    },
    "r": {
     "delete_cmd_postfix": ") ",
     "delete_cmd_prefix": "rm(",
     "library": "var_list.r",
     "varRefreshCmd": "cat(var_dic_list()) "
    }
   },
   "types_to_exclude": [
    "module",
    "function",
    "builtin_function_or_method",
    "instance",
    "_Feature"
   ],
   "window_display": false
  }
 },
 "nbformat": 4,
 "nbformat_minor": 4
}
