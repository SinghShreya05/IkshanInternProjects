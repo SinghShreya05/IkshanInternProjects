{
 "cells": [
  {
   "cell_type": "code",
   "execution_count": 1,
   "metadata": {},
   "outputs": [],
   "source": [
    "import pandas as pd \n",
    "import numpy as np\n",
    "import string"
   ]
  },
  {
   "cell_type": "code",
   "execution_count": 3,
   "metadata": {},
   "outputs": [
    {
     "data": {
      "text/plain": [
       "['(This passage contains all of the 220 Dolch Basic Sight Words.)',\n",
       " '',\n",
       " 'The Best Thing In The World',\n",
       " 'Once upon a time, there were four brothers who lived in a far away land. Their father was an old king. One day he said, \"I will not live long now. Today you must start out into the world. In a year, bring back the best thing you have found. The one who can pick the best thing shall be the new king.\" The first brother said, \"I will look in every city or town. I will buy the best thing I can for my father.\" The next two brothers said, \"We will both go on fast ships over the sea. We will find something better.\" The last brother said, \"I am going to ask the people here in our own land to tell me the best thing.\" The other three brothers began to laugh. \"Then you will never be king!\" They said. ',\n",
       " '',\n",
       " 'The last brother started off. When he had gone about six miles, he met a man. \"What do you carry in those big bags?\" he asked. \"The best thing in the world,\" said the man. \"These are full of the good nuts which fall from my five nut trees.\" \"I don\\'t think that would work,\" said the brother to himself, \"I must try again.\" The brother went on another seven miles. He found a small brown bird. It had been hurt, so he put it in his coat where it could keep warm. As he went on, he saw a little girl crying. He ran to meet her. \"Why are you crying?\" he asked. \"I want to get some water from the well,\" she said. \"We use so much. We drink cold water. We wash the clothes clean with hot water. But I do not know how to pull it up. Please show me.\" The brother said, \"Hold this bird and I will help you. It does not fly around any more because it got its wing cut.\" \"Thank you. What a pretty bird!\" she said. \"I wish you would give it to me. If you will let me keep it, I will always be very kind to it. I will take care of it myself. I will make it grow well again.\" \"Yes, you may have it,\" said the brother. So he gave her the bird and went on. ',\n",
       " '',\n",
       " 'At night, he went to sleep under a round yellow haystack. When it was light again he walked on. Every day he would walk eight or ten miles. He asked the people about the best thing in the world. Some said it was best to sing. Some said it was best to run and jump and play. Some said the green grass was best. Some liked the red and blue and white flowers best. One man said the best thing was to ride a black horse. He always stopped to help people who needed it. Soon he made many friends. All the people began to like him. They would say, \"See there goes the king\\'s son. He would be just the right kind of king for us.\" Every door was open to him. The people would call to him to stop. They would ask him to come and eat with them. After he ate, he would sit down and read to the children. After he read, he showed them how to draw and write. Months went by. He still had no beautiful thing to take to his father. Just before the year was done, he went home again. ',\n",
       " '',\n",
       " 'The time came when the king called his sons together. \"What did you bring?\" He asked them all. The other brothers had many beautiful things. \"And what did you bring?\" said the king to the last brother. \"This is too funny!\" said the other brothers. \"He has nothing!\" But the king was kind to the last brother. \"What did you bring me?\" the king asked again. \"I bring only the friendship of your people,\" said the last  brother. \"That is the best thing!\" cried his father. \"You shall be the new king.\" ',\n",
       " '',\n",
       " 'The End',\n",
       " '',\n",
       " '',\n",
       " '',\n",
       " '',\n",
       " '',\n",
       " 'Submitted by: APool37253@aol.com']"
      ]
     },
     "execution_count": 3,
     "metadata": {},
     "output_type": "execute_result"
    }
   ],
   "source": [
    "import docx\n",
    "from docx import Document\n",
    "dolch_story = docx.Document('C:\\\\Users\\\\Shreya Singh\\\\Downloads\\\\dolch_story.docx')\n",
    "paras = []\n",
    "for paragraph in dolch_story.paragraphs:\n",
    "    paras.append(paragraph.text)\n",
    "paras"
   ]
  },
  {
   "cell_type": "code",
   "execution_count": 4,
   "metadata": {},
   "outputs": [],
   "source": [
    "import re"
   ]
  },
  {
   "cell_type": "code",
   "execution_count": 16,
   "metadata": {},
   "outputs": [],
   "source": [
    "para=re.sub(r' ., +, *, ?, ^, $, (, ), [, ], {, }, |, \\.','',str(paras))"
   ]
  },
  {
   "cell_type": "code",
   "execution_count": 17,
   "metadata": {},
   "outputs": [],
   "source": [
    "para=re.sub(r'\\n','',str(para))"
   ]
  },
  {
   "cell_type": "code",
   "execution_count": 27,
   "metadata": {},
   "outputs": [],
   "source": [
    "para=re.sub(r'\\'','',str(para))"
   ]
  },
  {
   "cell_type": "code",
   "execution_count": 21,
   "metadata": {},
   "outputs": [],
   "source": [
    "para=re.sub(r',','',str(para))"
   ]
  },
  {
   "cell_type": "code",
   "execution_count": 30,
   "metadata": {},
   "outputs": [
    {
     "data": {
      "text/plain": [
       "'[(This passage contains all of the 220 Dolch Basic Sight Words.)  The Best Thing In The World Once upon a time there were four brothers who lived in a far away land. Their father was an old king. One day he said \"I will not live long now. Today you must start out into the world. In a year bring back the best thing you have found. The one who can pick the best thing shall be the new king.\" The first brother said \"I will look in every city or town. I will buy the best thing I can for my father.\" The next two brothers said \"We will both go on fast ships over the sea. We will find something better.\" The last brother said \"I am going to ask the people here in our own land to tell me the best thing.\" The other three brothers began to laugh. \"Then you will never be king!\" They said.   The last brother started off. When he had gone about six miles he met a man. \"What do you carry in those big bags?\" he asked. \"The best thing in the world\" said the man. \"These are full of the good nuts which fall from my five nut trees.\" \"I don\\\\t think that would work\" said the brother to himself \"I must try again.\" The brother went on another seven miles. He found a small brown bird. It had been hurt so he put it in his coat where it could keep warm. As he went on he saw a little girl crying. He ran to meet her. \"Why are you crying?\" he asked. \"I want to get some water from the well\" she said. \"We use so much. We drink cold water. We wash the clothes clean with hot water. But I do not know how to pull it up. Please show me.\" The brother said \"Hold this bird and I will help you. It does not fly around any more because it got its wing cut.\" \"Thank you. What a pretty bird!\" she said. \"I wish you would give it to me. If you will let me keep it I will always be very kind to it. I will take care of it myself. I will make it grow well again.\" \"Yes you may have it\" said the brother. So he gave her the bird and went on.   At night he went to sleep under a round yellow haystack. When it was light again he walked on. Every day he would walk eight or ten miles. He asked the people about the best thing in the world. Some said it was best to sing. Some said it was best to run and jump and play. Some said the green grass was best. Some liked the red and blue and white flowers best. One man said the best thing was to ride a black horse. He always stopped to help people who needed it. Soon he made many friends. All the people began to like him. They would say \"See there goes the king\\\\s son. He would be just the right kind of king for us.\" Every door was open to him. The people would call to him to stop. They would ask him to come and eat with them. After he ate he would sit down and read to the children. After he read he showed them how to draw and write. Months went by. He still had no beautiful thing to take to his father. Just before the year was done he went home again.   The time came when the king called his sons together. \"What did you bring?\" He asked them all. The other brothers had many beautiful things. \"And what did you bring?\" said the king to the last brother. \"This is too funny!\" said the other brothers. \"He has nothing!\" But the king was kind to the last brother. \"What did you bring me?\" the king asked again. \"I bring only the friendship of your people\" said the last  brother. \"That is the best thing!\" cried his father. \"You shall be the new king.\"   The End      Submitted by: APool37253@aol.com]'"
      ]
     },
     "execution_count": 30,
     "metadata": {},
     "output_type": "execute_result"
    }
   ],
   "source": [
    "para"
   ]
  },
  {
   "cell_type": "code",
   "execution_count": 35,
   "metadata": {},
   "outputs": [
    {
     "name": "stderr",
     "output_type": "stream",
     "text": [
      "F:\\ana\\lib\\site-packages\\fuzzywuzzy\\fuzz.py:11: UserWarning: Using slow pure-python SequenceMatcher. Install python-Levenshtein to remove this warning\n",
      "  warnings.warn('Using slow pure-python SequenceMatcher. Install python-Levenshtein to remove this warning')\n"
     ]
    }
   ],
   "source": [
    "from fuzzywuzzy import process, fuzz"
   ]
  },
  {
   "cell_type": "code",
   "execution_count": 39,
   "metadata": {},
   "outputs": [],
   "source": [
    "from nltk.tokenize import TweetTokenizer\n",
    "def clean_para(str1):\n",
    "    para=re.sub(r' ., +, *, ?, ^, $, (, ), [, ], {, }, |, \\.','',str(str1))\n",
    "    para=re.sub(r'\\n','',str(para))\n",
    "    para=re.sub(r'\\'','',str(para))\n",
    "    para=re.sub(r',','',str(para))\n",
    "    tokenizer=TweetTokenizer(preserve_case=False,strip_handles=True,reduce_len=True)\n",
    "    tweet_tokens=tokenizer.tokenize(para)\n",
    "    word_clean=[]\n",
    "    for words in tweet_tokens:\n",
    "        if words not in string.punctuation:\n",
    "            words=words.lower()\n",
    "            word_clean.append(words)\n",
    "            temp=set(word_clean)\n",
    "    return temp"
   ]
  },
  {
   "cell_type": "code",
   "execution_count": 40,
   "metadata": {},
   "outputs": [],
   "source": [
    "para1=clean_para(paras)"
   ]
  },
  {
   "cell_type": "code",
   "execution_count": 44,
   "metadata": {},
   "outputs": [
    {
     "data": {
      "text/plain": [
       "[('full', 100), ('fall', 75), ('pull', 75), ('fly', 57), ('all', 57)]"
      ]
     },
     "execution_count": 44,
     "metadata": {},
     "output_type": "execute_result"
    }
   ],
   "source": [
    "process.extract('full', para1, scorer=fuzz.token_set_ratio)"
   ]
  },
  {
   "cell_type": "code",
   "execution_count": 43,
   "metadata": {},
   "outputs": [
    {
     "data": {
      "text/plain": [
       "{'220',\n",
       " 'a',\n",
       " 'about',\n",
       " 'after',\n",
       " 'again',\n",
       " 'all',\n",
       " 'always',\n",
       " 'am',\n",
       " 'an',\n",
       " 'and',\n",
       " 'another',\n",
       " 'any',\n",
       " 'apool37253@aol.com',\n",
       " 'are',\n",
       " 'around',\n",
       " 'as',\n",
       " 'ask',\n",
       " 'asked',\n",
       " 'at',\n",
       " 'ate',\n",
       " 'away',\n",
       " 'back',\n",
       " 'bags',\n",
       " 'basic',\n",
       " 'be',\n",
       " 'beautiful',\n",
       " 'because',\n",
       " 'been',\n",
       " 'before',\n",
       " 'began',\n",
       " 'best',\n",
       " 'better',\n",
       " 'big',\n",
       " 'bird',\n",
       " 'black',\n",
       " 'blue',\n",
       " 'both',\n",
       " 'bring',\n",
       " 'brother',\n",
       " 'brothers',\n",
       " 'brown',\n",
       " 'but',\n",
       " 'buy',\n",
       " 'by',\n",
       " 'call',\n",
       " 'called',\n",
       " 'came',\n",
       " 'can',\n",
       " 'care',\n",
       " 'carry',\n",
       " 'children',\n",
       " 'city',\n",
       " 'clean',\n",
       " 'clothes',\n",
       " 'coat',\n",
       " 'cold',\n",
       " 'come',\n",
       " 'contains',\n",
       " 'could',\n",
       " 'cried',\n",
       " 'crying',\n",
       " 'cut',\n",
       " 'day',\n",
       " 'did',\n",
       " 'do',\n",
       " 'does',\n",
       " 'dolch',\n",
       " 'don',\n",
       " 'done',\n",
       " 'door',\n",
       " 'down',\n",
       " 'draw',\n",
       " 'drink',\n",
       " 'eat',\n",
       " 'eight',\n",
       " 'end',\n",
       " 'every',\n",
       " 'fall',\n",
       " 'far',\n",
       " 'fast',\n",
       " 'father',\n",
       " 'find',\n",
       " 'first',\n",
       " 'five',\n",
       " 'flowers',\n",
       " 'fly',\n",
       " 'for',\n",
       " 'found',\n",
       " 'four',\n",
       " 'friends',\n",
       " 'friendship',\n",
       " 'from',\n",
       " 'full',\n",
       " 'funny',\n",
       " 'gave',\n",
       " 'get',\n",
       " 'girl',\n",
       " 'give',\n",
       " 'go',\n",
       " 'goes',\n",
       " 'going',\n",
       " 'gone',\n",
       " 'good',\n",
       " 'got',\n",
       " 'grass',\n",
       " 'green',\n",
       " 'grow',\n",
       " 'had',\n",
       " 'has',\n",
       " 'have',\n",
       " 'haystack',\n",
       " 'he',\n",
       " 'help',\n",
       " 'her',\n",
       " 'here',\n",
       " 'him',\n",
       " 'himself',\n",
       " 'his',\n",
       " 'hold',\n",
       " 'home',\n",
       " 'horse',\n",
       " 'hot',\n",
       " 'how',\n",
       " 'hurt',\n",
       " 'i',\n",
       " 'if',\n",
       " 'in',\n",
       " 'into',\n",
       " 'is',\n",
       " 'it',\n",
       " 'its',\n",
       " 'jump',\n",
       " 'just',\n",
       " 'keep',\n",
       " 'kind',\n",
       " 'king',\n",
       " 'know',\n",
       " 'land',\n",
       " 'last',\n",
       " 'laugh',\n",
       " 'let',\n",
       " 'light',\n",
       " 'like',\n",
       " 'liked',\n",
       " 'little',\n",
       " 'live',\n",
       " 'lived',\n",
       " 'long',\n",
       " 'look',\n",
       " 'made',\n",
       " 'make',\n",
       " 'man',\n",
       " 'many',\n",
       " 'may',\n",
       " 'me',\n",
       " 'meet',\n",
       " 'met',\n",
       " 'miles',\n",
       " 'months',\n",
       " 'more',\n",
       " 'much',\n",
       " 'must',\n",
       " 'my',\n",
       " 'myself',\n",
       " 'needed',\n",
       " 'never',\n",
       " 'new',\n",
       " 'next',\n",
       " 'night',\n",
       " 'no',\n",
       " 'not',\n",
       " 'nothing',\n",
       " 'now',\n",
       " 'nut',\n",
       " 'nuts',\n",
       " 'of',\n",
       " 'off',\n",
       " 'old',\n",
       " 'on',\n",
       " 'once',\n",
       " 'one',\n",
       " 'only',\n",
       " 'open',\n",
       " 'or',\n",
       " 'other',\n",
       " 'our',\n",
       " 'out',\n",
       " 'over',\n",
       " 'own',\n",
       " 'passage',\n",
       " 'people',\n",
       " 'pick',\n",
       " 'play',\n",
       " 'please',\n",
       " 'pretty',\n",
       " 'pull',\n",
       " 'put',\n",
       " 'ran',\n",
       " 'read',\n",
       " 'red',\n",
       " 'ride',\n",
       " 'right',\n",
       " 'round',\n",
       " 'run',\n",
       " 's',\n",
       " 'said',\n",
       " 'saw',\n",
       " 'say',\n",
       " 'sea',\n",
       " 'see',\n",
       " 'seven',\n",
       " 'shall',\n",
       " 'she',\n",
       " 'ships',\n",
       " 'show',\n",
       " 'showed',\n",
       " 'sight',\n",
       " 'sing',\n",
       " 'sit',\n",
       " 'six',\n",
       " 'sleep',\n",
       " 'small',\n",
       " 'so',\n",
       " 'some',\n",
       " 'something',\n",
       " 'son',\n",
       " 'sons',\n",
       " 'soon',\n",
       " 'start',\n",
       " 'started',\n",
       " 'still',\n",
       " 'stop',\n",
       " 'stopped',\n",
       " 'submitted',\n",
       " 't',\n",
       " 'take',\n",
       " 'tell',\n",
       " 'ten',\n",
       " 'thank',\n",
       " 'that',\n",
       " 'the',\n",
       " 'their',\n",
       " 'them',\n",
       " 'then',\n",
       " 'there',\n",
       " 'these',\n",
       " 'they',\n",
       " 'thing',\n",
       " 'things',\n",
       " 'think',\n",
       " 'this',\n",
       " 'those',\n",
       " 'three',\n",
       " 'time',\n",
       " 'to',\n",
       " 'today',\n",
       " 'together',\n",
       " 'too',\n",
       " 'town',\n",
       " 'trees',\n",
       " 'try',\n",
       " 'two',\n",
       " 'under',\n",
       " 'up',\n",
       " 'upon',\n",
       " 'us',\n",
       " 'use',\n",
       " 'very',\n",
       " 'walk',\n",
       " 'walked',\n",
       " 'want',\n",
       " 'warm',\n",
       " 'was',\n",
       " 'wash',\n",
       " 'water',\n",
       " 'we',\n",
       " 'well',\n",
       " 'went',\n",
       " 'were',\n",
       " 'what',\n",
       " 'when',\n",
       " 'where',\n",
       " 'which',\n",
       " 'white',\n",
       " 'who',\n",
       " 'why',\n",
       " 'will',\n",
       " 'wing',\n",
       " 'wish',\n",
       " 'with',\n",
       " 'words',\n",
       " 'work',\n",
       " 'world',\n",
       " 'would',\n",
       " 'write',\n",
       " 'year',\n",
       " 'yellow',\n",
       " 'yes',\n",
       " 'you',\n",
       " 'your'}"
      ]
     },
     "execution_count": 43,
     "metadata": {},
     "output_type": "execute_result"
    }
   ],
   "source": [
    "para1"
   ]
  },
  {
   "cell_type": "code",
   "execution_count": 51,
   "metadata": {},
   "outputs": [],
   "source": [
    "def match_pattern(words, pattern):\n",
    "    matched_word = []\n",
    "    for word in words:\n",
    "        if(re.match(pattern,word)):matched_word.append(word)\n",
    "    return matched_word"
   ]
  },
  {
   "cell_type": "code",
   "execution_count": 59,
   "metadata": {},
   "outputs": [
    {
     "data": {
      "text/plain": [
       "['full']"
      ]
     },
     "execution_count": 59,
     "metadata": {},
     "output_type": "execute_result"
    }
   ],
   "source": [
    "match_pattern(para1, '.*full')"
   ]
  },
  {
   "cell_type": "code",
   "execution_count": 58,
   "metadata": {},
   "outputs": [
    {
     "data": {
      "text/plain": [
       "['stopped', 'to', 'together', 'into', 'too', 'stop', 'town', 'today']"
      ]
     },
     "execution_count": 58,
     "metadata": {},
     "output_type": "execute_result"
    }
   ],
   "source": [
    "match_pattern(para1, '.*to')"
   ]
  },
  {
   "cell_type": "code",
   "execution_count": 57,
   "metadata": {},
   "outputs": [
    {
     "data": {
      "text/plain": [
       "['going',\n",
       " 'nothing',\n",
       " 'wing',\n",
       " 'bring',\n",
       " 'thing',\n",
       " 'king',\n",
       " 'things',\n",
       " 'crying',\n",
       " 'sing',\n",
       " 'something']"
      ]
     },
     "execution_count": 57,
     "metadata": {},
     "output_type": "execute_result"
    }
   ],
   "source": [
    "match_pattern(para1, '.*ing')"
   ]
  },
  {
   "cell_type": "code",
   "execution_count": 56,
   "metadata": {},
   "outputs": [
    {
     "data": {
      "text/plain": [
       "['full', 'beautiful']"
      ]
     },
     "execution_count": 56,
     "metadata": {},
     "output_type": "execute_result"
    }
   ],
   "source": [
    "match_pattern(para1, '.*ful')"
   ]
  },
  {
   "cell_type": "code",
   "execution_count": 82,
   "metadata": {},
   "outputs": [],
   "source": [
    "def match_pattern_words(words, pattern,sen):\n",
    "    matched_word = []\n",
    "    for word in words:\n",
    "        if(re.match(pattern,word)):\n",
    "            matched_word.append(word)\n",
    "    pos=[]\n",
    "    for x in matched_word:\n",
    "        matches = re.finditer(x, sen)\n",
    "        matches_positions = [match.start() for match in matches]\n",
    "        pos.append(matches_positions)\n",
    "    return matched_word, pos"
   ]
  },
  {
   "cell_type": "code",
   "execution_count": 83,
   "metadata": {},
   "outputs": [
    {
     "data": {
      "text/plain": [
       "(['full', 'beautiful'], [[994], [2841, 3062]])"
      ]
     },
     "execution_count": 83,
     "metadata": {},
     "output_type": "execute_result"
    }
   ],
   "source": [
    "match_pattern_words(para1, '.*ful',str(paras))"
   ]
  },
  {
   "cell_type": "code",
   "execution_count": 87,
   "metadata": {},
   "outputs": [
    {
     "data": {
      "text/plain": [
       "(['going',\n",
       "  'nothing',\n",
       "  'wing',\n",
       "  'bring',\n",
       "  'thing',\n",
       "  'king',\n",
       "  'things',\n",
       "  'crying',\n",
       "  'sing',\n",
       "  'something'],\n",
       " [[647],\n",
       "  [3195],\n",
       "  [1662],\n",
       "  [303, 3007, 3098, 3262, 3298],\n",
       "  [323, 375, 485, 603, 712, 948, 2137, 2346, 2851, 3072, 3197, 3383],\n",
       "  [201, 398, 785, 2524, 2572, 2962, 3115, 3213, 3277, 3431],\n",
       "  [3072],\n",
       "  [1310, 1351],\n",
       "  [2182],\n",
       "  [599]])"
      ]
     },
     "execution_count": 87,
     "metadata": {},
     "output_type": "execute_result"
    }
   ],
   "source": [
    "match_pattern_words(para1, '.*ing',str(paras))"
   ]
  },
  {
   "cell_type": "code",
   "execution_count": null,
   "metadata": {},
   "outputs": [],
   "source": []
  }
 ],
 "metadata": {
  "kernelspec": {
   "display_name": "Python 3",
   "language": "python",
   "name": "python3"
  },
  "language_info": {
   "codemirror_mode": {
    "name": "ipython",
    "version": 3
   },
   "file_extension": ".py",
   "mimetype": "text/x-python",
   "name": "python",
   "nbconvert_exporter": "python",
   "pygments_lexer": "ipython3",
   "version": "3.8.3"
  }
 },
 "nbformat": 4,
 "nbformat_minor": 4
}
