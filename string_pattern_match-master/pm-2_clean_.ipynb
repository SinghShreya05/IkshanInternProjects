{
 "cells": [
  {
   "cell_type": "code",
   "execution_count": 1,
   "metadata": {},
   "outputs": [],
   "source": [
    "import numpy as np\n",
    "import string\n",
    "import re"
   ]
  },
  {
   "cell_type": "code",
   "execution_count": 2,
   "metadata": {},
   "outputs": [],
   "source": [
    "from nltk.tokenize import TweetTokenizer\n",
    "def clean_para(str1):\n",
    "    para=re.sub(r' ., +, *, ?, ^, $, (, ), [, ], {, }, |, \\.','',str(str1))\n",
    "    para=re.sub(r'\\n','',str(para))\n",
    "    para=re.sub(r'\\'','',str(para))\n",
    "    para=re.sub(r',','',str(para))\n",
    "    tokenizer=TweetTokenizer(preserve_case=False,strip_handles=True,reduce_len=True)\n",
    "    tweet_tokens=tokenizer.tokenize(para)\n",
    "    word_clean=[]\n",
    "    for words in tweet_tokens:\n",
    "        if words not in string.punctuation:\n",
    "            words=words.lower()\n",
    "            word_clean.append(words)\n",
    "            temp=set(word_clean)\n",
    "    return temp"
   ]
  },
  {
   "cell_type": "code",
   "execution_count": 3,
   "metadata": {},
   "outputs": [
    {
     "data": {
      "text/plain": [
       "'At night, he went to sleep under a round yellow haystack. When it was light again he walked on. Every day he would walk eight or ten miles. He asked the people about the best thing in the world. Some said it was best to sing. Some said it was best to run and jump and play. Some said the green grass was best. Some liked the red and blue and white flowers best. One man said the best thing was to ride a black horse. He always stopped to help people who needed it. Soon he made many friends. All the people began to like him. They would say, \"See there goes the king\\'s son. He would be just the right kind of king for us.\" Every door was open to him. The people would call to him to stop. They would ask him to come and eat with them. After he ate, he would sit down and read to the children. After he read, he showed them how to draw and write. Months went by. He still had no beautiful thing to take to his father. Just before the year was done, he went home again.'"
      ]
     },
     "execution_count": 3,
     "metadata": {},
     "output_type": "execute_result"
    }
   ],
   "source": [
    "sentence='At night, he went to sleep under a round yellow haystack. When it was light again he walked on. Every day he would walk eight or ten miles. He asked the people about the best thing in the world. Some said it was best to sing. Some said it was best to run and jump and play. Some said the green grass was best. Some liked the red and blue and white flowers best. One man said the best thing was to ride a black horse. He always stopped to help people who needed it. Soon he made many friends. All the people began to like him. They would say, \"See there goes the king\\'s son. He would be just the right kind of king for us.\" Every door was open to him. The people would call to him to stop. They would ask him to come and eat with them. After he ate, he would sit down and read to the children. After he read, he showed them how to draw and write. Months went by. He still had no beautiful thing to take to his father. Just before the year was done, he went home again.'\n",
    "sentence"
   ]
  },
  {
   "cell_type": "code",
   "execution_count": 4,
   "metadata": {},
   "outputs": [
    {
     "data": {
      "text/plain": [
       "{'a',\n",
       " 'about',\n",
       " 'after',\n",
       " 'again',\n",
       " 'all',\n",
       " 'always',\n",
       " 'and',\n",
       " 'ask',\n",
       " 'asked',\n",
       " 'at',\n",
       " 'ate',\n",
       " 'be',\n",
       " 'beautiful',\n",
       " 'before',\n",
       " 'began',\n",
       " 'best',\n",
       " 'black',\n",
       " 'blue',\n",
       " 'by',\n",
       " 'call',\n",
       " 'children',\n",
       " 'come',\n",
       " 'day',\n",
       " 'done',\n",
       " 'door',\n",
       " 'down',\n",
       " 'draw',\n",
       " 'eat',\n",
       " 'eight',\n",
       " 'every',\n",
       " 'father',\n",
       " 'flowers',\n",
       " 'for',\n",
       " 'friends',\n",
       " 'goes',\n",
       " 'grass',\n",
       " 'green',\n",
       " 'had',\n",
       " 'haystack',\n",
       " 'he',\n",
       " 'help',\n",
       " 'him',\n",
       " 'his',\n",
       " 'home',\n",
       " 'horse',\n",
       " 'how',\n",
       " 'in',\n",
       " 'it',\n",
       " 'jump',\n",
       " 'just',\n",
       " 'kind',\n",
       " 'king',\n",
       " 'kings',\n",
       " 'light',\n",
       " 'like',\n",
       " 'liked',\n",
       " 'made',\n",
       " 'man',\n",
       " 'many',\n",
       " 'miles',\n",
       " 'months',\n",
       " 'needed',\n",
       " 'night',\n",
       " 'no',\n",
       " 'of',\n",
       " 'on',\n",
       " 'one',\n",
       " 'open',\n",
       " 'or',\n",
       " 'people',\n",
       " 'play',\n",
       " 'read',\n",
       " 'red',\n",
       " 'ride',\n",
       " 'right',\n",
       " 'round',\n",
       " 'run',\n",
       " 'said',\n",
       " 'say',\n",
       " 'see',\n",
       " 'showed',\n",
       " 'sing',\n",
       " 'sit',\n",
       " 'sleep',\n",
       " 'some',\n",
       " 'son',\n",
       " 'soon',\n",
       " 'still',\n",
       " 'stop',\n",
       " 'stopped',\n",
       " 'take',\n",
       " 'ten',\n",
       " 'the',\n",
       " 'them',\n",
       " 'there',\n",
       " 'they',\n",
       " 'thing',\n",
       " 'to',\n",
       " 'under',\n",
       " 'us',\n",
       " 'walk',\n",
       " 'walked',\n",
       " 'was',\n",
       " 'went',\n",
       " 'when',\n",
       " 'white',\n",
       " 'who',\n",
       " 'with',\n",
       " 'world',\n",
       " 'would',\n",
       " 'write',\n",
       " 'year',\n",
       " 'yellow'}"
      ]
     },
     "execution_count": 4,
     "metadata": {},
     "output_type": "execute_result"
    }
   ],
   "source": [
    "clean_para(sentence)"
   ]
  },
  {
   "cell_type": "code",
   "execution_count": 7,
   "metadata": {},
   "outputs": [],
   "source": [
    "tok_words=clean_para(sentence)"
   ]
  },
  {
   "cell_type": "code",
   "execution_count": 6,
   "metadata": {},
   "outputs": [],
   "source": [
    "def match_pattern_words(words, pattern,sen):\n",
    "    matched_word = []\n",
    "    for word in words:\n",
    "        if(re.match(pattern,word)):\n",
    "            matched_word.append(word)\n",
    "    pos=[]\n",
    "    for x in matched_word:\n",
    "        matches = re.finditer(x, sen)\n",
    "        matches_positions = [match.start() for match in matches]\n",
    "        pos.append(matches_positions)\n",
    "    return matched_word, pos"
   ]
  },
  {
   "cell_type": "code",
   "execution_count": 17,
   "metadata": {},
   "outputs": [
    {
     "data": {
      "text/plain": [
       "(['sing', 'king', 'thing', 'kings'], [[220], [562, 609], [175, 384, 888], []])"
      ]
     },
     "execution_count": 17,
     "metadata": {},
     "output_type": "execute_result"
    }
   ],
   "source": [
    "match_pattern_words(tok_words, '.*ing',sentence.lower())"
   ]
  },
  {
   "cell_type": "code",
   "execution_count": 10,
   "metadata": {},
   "outputs": [
    {
     "data": {
      "text/plain": [
       "'sing'"
      ]
     },
     "execution_count": 10,
     "metadata": {},
     "output_type": "execute_result"
    }
   ],
   "source": [
    "sentence[220:224]"
   ]
  },
  {
   "cell_type": "code",
   "execution_count": 13,
   "metadata": {},
   "outputs": [
    {
     "data": {
      "text/plain": [
       "(['stop', 'stopped'], [[427, 683], [427]])"
      ]
     },
     "execution_count": 13,
     "metadata": {},
     "output_type": "execute_result"
    }
   ],
   "source": [
    "match_pattern_words(tok_words, '.*stop',sentence.lower())"
   ]
  },
  {
   "cell_type": "code",
   "execution_count": 14,
   "metadata": {},
   "outputs": [
    {
     "data": {
      "text/plain": [
       "(['father', 'them', 'they', 'the', 'there'],\n",
       " [[909],\n",
       "  [729, 818],\n",
       "  [526, 689],\n",
       "  [149,\n",
       "   166,\n",
       "   184,\n",
       "   284,\n",
       "   321,\n",
       "   375,\n",
       "   496,\n",
       "   526,\n",
       "   547,\n",
       "   558,\n",
       "   591,\n",
       "   651,\n",
       "   689,\n",
       "   729,\n",
       "   779,\n",
       "   818,\n",
       "   911,\n",
       "   929],\n",
       "  [547]])"
      ]
     },
     "execution_count": 14,
     "metadata": {},
     "output_type": "execute_result"
    }
   ],
   "source": [
    "match_pattern_words(tok_words, '.*the',sentence.lower())"
   ]
  },
  {
   "cell_type": "code",
   "execution_count": 16,
   "metadata": {},
   "outputs": [
    {
     "data": {
      "text/plain": [
       "'the'"
      ]
     },
     "execution_count": 16,
     "metadata": {},
     "output_type": "execute_result"
    }
   ],
   "source": [
    "sentence[591:594]"
   ]
  }
 ],
 "metadata": {
  "kernelspec": {
   "display_name": "Python 3",
   "language": "python",
   "name": "python3"
  },
  "language_info": {
   "codemirror_mode": {
    "name": "ipython",
    "version": 3
   },
   "file_extension": ".py",
   "mimetype": "text/x-python",
   "name": "python",
   "nbconvert_exporter": "python",
   "pygments_lexer": "ipython3",
   "version": "3.8.3"
  }
 },
 "nbformat": 4,
 "nbformat_minor": 4
}
