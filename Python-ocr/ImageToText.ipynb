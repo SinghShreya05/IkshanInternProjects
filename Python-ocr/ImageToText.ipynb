{
 "cells": [
  {
   "cell_type": "code",
   "execution_count": 1,
   "metadata": {
    "ExecuteTime": {
     "end_time": "2020-12-08T11:02:46.293202Z",
     "start_time": "2020-12-08T11:02:39.208270Z"
    }
   },
   "outputs": [],
   "source": [
    "import io \n",
    "import json \n",
    "import cv2 \n",
    "import numpy as np \n",
    "import requests \n",
    "import matplotlib.pyplot as plt  "
   ]
  },
  {
   "cell_type": "code",
   "execution_count": 3,
   "metadata": {
    "ExecuteTime": {
     "end_time": "2020-12-08T11:08:56.617707Z",
     "start_time": "2020-12-08T11:08:56.609708Z"
    }
   },
   "outputs": [],
   "source": [
    "import re"
   ]
  },
  {
   "cell_type": "code",
   "execution_count": 4,
   "metadata": {
    "ExecuteTime": {
     "end_time": "2020-12-08T11:12:41.842713Z",
     "start_time": "2020-12-08T11:12:41.818711Z"
    }
   },
   "outputs": [],
   "source": [
    "from nltk.tokenize import TweetTokenizer\n",
    "import string"
   ]
  },
  {
   "cell_type": "code",
   "execution_count": 2,
   "metadata": {
    "ExecuteTime": {
     "end_time": "2020-12-08T11:05:45.112141Z",
     "start_time": "2020-12-08T11:05:44.264218Z"
    }
   },
   "outputs": [
    {
     "data": {
      "text/plain": [
       "2309"
      ]
     },
     "execution_count": 2,
     "metadata": {},
     "output_type": "execute_result"
    }
   ],
   "source": [
    "# def image_to_text()\n",
    "# img = cv2.imread(\"C://Users//Documents//Downloads/AVENA-CHOCOLATE-SKUs2.png\")\n",
    "# height, width, _ = img.shape"
   ]
  },
  {
   "cell_type": "code",
   "execution_count": 36,
   "metadata": {
    "ExecuteTime": {
     "end_time": "2020-12-08T12:11:31.736243Z",
     "start_time": "2020-12-08T12:11:31.704243Z"
    }
   },
   "outputs": [],
   "source": [
    "def image_to_text(key):\n",
    "    print(\"Enter the exact location of file\")\n",
    "    file_location=input()\n",
    "    img = cv2.imread(file_location)\n",
    "    height, width, _ = img.shape\n",
    "    url_api = \"https://api.ocr.space/parse/image\"\n",
    "    _, compressedimage = cv2.imencode(\".jpg\", img, [1, 90])\n",
    "    file_bytes = io.BytesIO(compressedimage)\n",
    "    print(\"Enter the file name\")\n",
    "    file_name=input()\n",
    "\n",
    "    result = requests.post(url_api,\n",
    "              files = {file_name: file_bytes},\n",
    "              data = {\"apikey\": key, #you have to register on http://ocr.space/OCRAPI to get free unique api key\n",
    "                      \"language\": \"eng\"})\n",
    "    result = result.content.decode()\n",
    "    result = json.loads(result)\n",
    "    parsed_results = result.get(\"ParsedResults\")[0]\n",
    "    text_detected = parsed_results.get(\"ParsedText\")\n",
    "    \n",
    "    #text preprocessing\n",
    "    \n",
    "    pattern=r'[^a-zA-Z0-9\\s]' #if not remove_digits else r'[^a-zA-Z\\s]'\n",
    "    text=re.sub(pattern,'',text_detected)\n",
    "\n",
    "    text=re.sub('\\r','',text)\n",
    "    processed_text=text.replace('\\\\n', '\\n').replace('\\\\t', '')\n",
    "    tokenizer=TweetTokenizer(preserve_case=False,strip_handles=True,reduce_len=True)\n",
    "    tweet_tokens=tokenizer.tokenize(processed_text)\n",
    "    word_clean=[]\n",
    "    for words in tweet_tokens:\n",
    "        if words not in string.punctuation:\n",
    "            words=words.lower()\n",
    "            word_clean.append(words)\n",
    "            #temp=set(word_clean)\n",
    "    return word_clean\n",
    "    "
   ]
  },
  {
   "cell_type": "code",
   "execution_count": 19,
   "metadata": {
    "ExecuteTime": {
     "end_time": "2020-12-08T11:27:21.988553Z",
     "start_time": "2020-12-08T11:27:17.980925Z"
    }
   },
   "outputs": [],
   "source": [
    "alpha=image_to_text(\"key\")"
   ]
  },
  {
   "cell_type": "code",
   "execution_count": 20,
   "metadata": {
    "ExecuteTime": {
     "end_time": "2020-12-08T11:27:23.084453Z",
     "start_time": "2020-12-08T11:27:22.964463Z"
    }
   },
   "outputs": [
    {
     "data": {
      "text/plain": [
       "['con',\n",
       " 'avenagcocoa',\n",
       " 'ntural',\n",
       " 'sin',\n",
       " 'cotorantes',\n",
       " 'abrefcil',\n",
       " 'reseobe',\n",
       " 'dao',\n",
       " 'gueno',\n",
       " 'de',\n",
       " 'presentacin',\n",
       " 'avena',\n",
       " 'en',\n",
       " 'poilo',\n",
       " 'para',\n",
       " 'preparar',\n",
       " 'bebida',\n",
       " 'sabora',\n",
       " 'chocolate',\n",
       " 'imagen',\n",
       " 'aluslva',\n",
       " 'al',\n",
       " 'sabor',\n",
       " 'idisfruta',\n",
       " 'net',\n",
       " '400g',\n",
       " 'cont',\n",
       " 'lliente',\n",
       " 'unpas',\n",
       " '0d25',\n",
       " 'unwaso',\n",
       " 'de',\n",
       " '250',\n",
       " 'ml',\n",
       " 'con',\n",
       " 'lectr',\n",
       " 'nremada',\n",
       " 'aprta',\n",
       " 'de',\n",
       " 'ios',\n",
       " 'nutrimentos',\n",
       " 'diarios',\n",
       " 'b',\n",
       " '3',\n",
       " 'porciones',\n",
       " 'vase',\n",
       " 'apro',\n",
       " 'de',\n",
       " 'lbs',\n",
       " 'nutriinentos',\n",
       " 'diarios',\n",
       " 'b',\n",
       " '3',\n",
       " 'porciones',\n",
       " 'por',\n",
       " 'envase',\n",
       " 'gprox']"
      ]
     },
     "execution_count": 20,
     "metadata": {},
     "output_type": "execute_result"
    }
   ],
   "source": [
    "alpha"
   ]
  },
  {
   "cell_type": "code",
   "execution_count": null,
   "metadata": {},
   "outputs": [],
   "source": [
    "C://Users//Documents//Downloads/AVENA-CHOCOLATE-SKUs2.png"
   ]
  },
  {
   "cell_type": "code",
   "execution_count": 25,
   "metadata": {
    "ExecuteTime": {
     "end_time": "2020-12-08T11:33:13.473337Z",
     "start_time": "2020-12-08T11:33:00.586530Z"
    }
   },
   "outputs": [
    {
     "name": "stdout",
     "output_type": "stream",
     "text": [
      "C://Users//Documents//Downloads/AVENA-CHOCOLATE-SKUs2.png\n"
     ]
    },
    {
     "data": {
      "text/plain": [
       "['con',\n",
       " 'avenagcocoa',\n",
       " 'ntural',\n",
       " 'sin',\n",
       " 'cotorantes',\n",
       " 'abrefcil',\n",
       " 'reseobe',\n",
       " 'dao',\n",
       " 'gueno',\n",
       " 'de',\n",
       " 'presentacin',\n",
       " 'avena',\n",
       " 'en',\n",
       " 'poilo',\n",
       " 'para',\n",
       " 'preparar',\n",
       " 'bebida',\n",
       " 'sabora',\n",
       " 'chocolate',\n",
       " 'imagen',\n",
       " 'aluslva',\n",
       " 'al',\n",
       " 'sabor',\n",
       " 'idisfruta',\n",
       " 'net',\n",
       " '400g',\n",
       " 'cont',\n",
       " 'lliente',\n",
       " 'unpas',\n",
       " '0d25',\n",
       " 'unwaso',\n",
       " 'de',\n",
       " '250',\n",
       " 'ml',\n",
       " 'con',\n",
       " 'lectr',\n",
       " 'nremada',\n",
       " 'aprta',\n",
       " 'de',\n",
       " 'ios',\n",
       " 'nutrimentos',\n",
       " 'diarios',\n",
       " 'b',\n",
       " '3',\n",
       " 'porciones',\n",
       " 'vase',\n",
       " 'apro',\n",
       " 'de',\n",
       " 'lbs',\n",
       " 'nutriinentos',\n",
       " 'diarios',\n",
       " 'b',\n",
       " '3',\n",
       " 'porciones',\n",
       " 'por',\n",
       " 'envase',\n",
       " 'gprox']"
      ]
     },
     "execution_count": 25,
     "metadata": {},
     "output_type": "execute_result"
    }
   ],
   "source": [
    "image_to_text(\"key\")"
   ]
  },
  {
   "cell_type": "code",
   "execution_count": null,
   "metadata": {},
   "outputs": [],
   "source": [
    "AVENA-CHOCOLATE-SKUs2.jpg"
   ]
  },
  {
   "cell_type": "code",
   "execution_count": 27,
   "metadata": {
    "ExecuteTime": {
     "end_time": "2020-12-08T11:43:14.362121Z",
     "start_time": "2020-12-08T11:41:50.956250Z"
    }
   },
   "outputs": [
    {
     "name": "stdout",
     "output_type": "stream",
     "text": [
      "Enter the exact location of while\n",
      "C://Users//Documents//Downloads/AVENA-CHOCOLATE-SKUs2.png\n",
      "Enter the file name\n",
      "AVENA-CHOCOLATE-SKUs2.jpg\n"
     ]
    },
    {
     "data": {
      "text/plain": [
       "['con',\n",
       " 'avenagcocoa',\n",
       " 'ntural',\n",
       " 'sin',\n",
       " 'cotorantes',\n",
       " 'abrefcil',\n",
       " 'reseobe',\n",
       " 'dao',\n",
       " 'gueno',\n",
       " 'de',\n",
       " 'presentacin',\n",
       " 'avena',\n",
       " 'en',\n",
       " 'poilo',\n",
       " 'para',\n",
       " 'preparar',\n",
       " 'bebida',\n",
       " 'sabora',\n",
       " 'chocolate',\n",
       " 'imagen',\n",
       " 'aluslva',\n",
       " 'al',\n",
       " 'sabor',\n",
       " 'idisfruta',\n",
       " 'net',\n",
       " '400g',\n",
       " 'cont',\n",
       " 'lliente',\n",
       " 'unpas',\n",
       " '0d25',\n",
       " 'unwaso',\n",
       " 'de',\n",
       " '250',\n",
       " 'ml',\n",
       " 'con',\n",
       " 'lectr',\n",
       " 'nremada',\n",
       " 'aprta',\n",
       " 'de',\n",
       " 'ios',\n",
       " 'nutrimentos',\n",
       " 'diarios',\n",
       " 'b',\n",
       " '3',\n",
       " 'porciones',\n",
       " 'vase',\n",
       " 'apro',\n",
       " 'de',\n",
       " 'lbs',\n",
       " 'nutriinentos',\n",
       " 'diarios',\n",
       " 'b',\n",
       " '3',\n",
       " 'porciones',\n",
       " 'por',\n",
       " 'envase',\n",
       " 'gprox']"
      ]
     },
     "execution_count": 27,
     "metadata": {},
     "output_type": "execute_result"
    }
   ],
   "source": [
    "image_to_text(\"key\")"
   ]
  }
 ],
 "metadata": {
  "kernelspec": {
   "display_name": "Python 3",
   "language": "python",
   "name": "python3"
  },
  "language_info": {
   "codemirror_mode": {
    "name": "ipython",
    "version": 3
   },
   "file_extension": ".py",
   "mimetype": "text/x-python",
   "name": "python",
   "nbconvert_exporter": "python",
   "pygments_lexer": "ipython3",
   "version": "3.8.5"
  },
  "toc": {
   "base_numbering": 1,
   "nav_menu": {},
   "number_sections": true,
   "sideBar": true,
   "skip_h1_title": false,
   "title_cell": "Table of Contents",
   "title_sidebar": "Contents",
   "toc_cell": false,
   "toc_position": {},
   "toc_section_display": true,
   "toc_window_display": false
  },
  "varInspector": {
   "cols": {
    "lenName": 16,
    "lenType": 16,
    "lenVar": 40
   },
   "kernels_config": {
    "python": {
     "delete_cmd_postfix": "",
     "delete_cmd_prefix": "del ",
     "library": "var_list.py",
     "varRefreshCmd": "print(var_dic_list())"
    },
    "r": {
     "delete_cmd_postfix": ") ",
     "delete_cmd_prefix": "rm(",
     "library": "var_list.r",
     "varRefreshCmd": "cat(var_dic_list()) "
    }
   },
   "types_to_exclude": [
    "module",
    "function",
    "builtin_function_or_method",
    "instance",
    "_Feature"
   ],
   "window_display": false
  }
 },
 "nbformat": 4,
 "nbformat_minor": 4
}
